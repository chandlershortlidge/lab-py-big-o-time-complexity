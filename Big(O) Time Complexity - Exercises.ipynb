{
 "cells": [
  {
   "cell_type": "markdown",
   "metadata": {},
   "source": [
    "# LAB | Big(O) Time Complexity"
   ]
  },
  {
   "cell_type": "markdown",
   "metadata": {},
   "source": [
    "## Overview\n",
    "\n",
    "This exercise consists of 10 challenges designed to help you understand and apply time complexity using Big O notation. Each challenge includes a brief description of a function or algorithm, and your task is to determine its time complexity in Big O notation. Two bonus challenges are included for extra practice."
   ]
  },
  {
   "cell_type": "markdown",
   "metadata": {},
   "source": [
    "\n",
    "## Instructions\n"
   ]
  },
  {
   "cell_type": "markdown",
   "metadata": {},
   "source": [
    "- Complete each challenge by analyzing the provided code.\n",
    "- Determine the time complexity in Big O notation and write your answer.\n",
    "- Review your answers to solidify your understanding of time complexity."
   ]
  },
  {
   "cell_type": "markdown",
   "metadata": {},
   "source": [
    "### Exercise  1: Constant Time\n",
    "**Description**: Consider the following function that returns the first element of a list.\n",
    "**Question**: What is the time complexity of this function?"
   ]
  },
  {
   "cell_type": "code",
   "execution_count": 1,
   "metadata": {},
   "outputs": [],
   "source": [
    "def get_first_element(lst):\n",
    "    return lst[0]"
   ]
  },
  {
   "cell_type": "code",
   "execution_count": 2,
   "metadata": {},
   "outputs": [],
   "source": [
    "# O(1) — constant time, because indexing a list at a fixed position does not depend on n"
   ]
  },
  {
   "cell_type": "markdown",
   "metadata": {},
   "source": [
    "\n",
    "\n",
    "---\n",
    "\n",
    "### Exercise  2: Linear Time\n",
    "**Description**: Analyze the following function that prints all elements in a list.\n",
    "**Question**: What is the time complexity of this function?\n"
   ]
  },
  {
   "cell_type": "code",
   "execution_count": 4,
   "metadata": {},
   "outputs": [],
   "source": [
    "def print_all_elements(lst):\n",
    "    for element in lst:\n",
    "        print(element)"
   ]
  },
  {
   "cell_type": "code",
   "execution_count": 3,
   "metadata": {},
   "outputs": [],
   "source": [
    "# O(n) — linear time, because the function iterates over each of the n elements exactly once"
   ]
  },
  {
   "cell_type": "markdown",
   "metadata": {},
   "source": [
    "\n",
    "---\n",
    "\n",
    "### Exercise  3: Quadratic Time\n",
    "**Description**: Evaluate the following function that prints all pairs of elements from a list.\n",
    "**Question**: What is the time complexity of this function?\n"
   ]
  },
  {
   "cell_type": "code",
   "execution_count": 6,
   "metadata": {},
   "outputs": [],
   "source": [
    "def print_pairs(lst):\n",
    "    for i in lst:\n",
    "        for j in lst:\n",
    "            print(i, j)"
   ]
  },
  {
   "cell_type": "code",
   "execution_count": 4,
   "metadata": {},
   "outputs": [],
   "source": [
    "# O(n²) — quadratic time, because there are two nested loops each iterating over n elements\n"
   ]
  },
  {
   "cell_type": "markdown",
   "metadata": {},
   "source": [
    "\n",
    "\n",
    "---\n",
    "\n",
    "### Exercise  4: Logarithmic Time\n",
    "**Description**: Examine the following binary search implementation.\n",
    "**Question**: What is the time complexity of this function?\n"
   ]
  },
  {
   "cell_type": "code",
   "execution_count": 8,
   "metadata": {},
   "outputs": [],
   "source": [
    "def binary_search(arr, target):\n",
    "    low = 0\n",
    "    high = len(arr) - 1\n",
    "    while low <= high:\n",
    "        mid = (low + high) // 2\n",
    "        if arr[mid] == target:\n",
    "            return mid\n",
    "        elif arr[mid] < target:\n",
    "            low = mid + 1\n",
    "        else:\n",
    "            high = mid - 1\n",
    "    return -1"
   ]
  },
  {
   "cell_type": "code",
   "execution_count": 5,
   "metadata": {},
   "outputs": [],
   "source": [
    "# O(log n) — logarithmic time, because each iteration halves the search space"
   ]
  },
  {
   "cell_type": "markdown",
   "metadata": {},
   "source": [
    "\n",
    "\n",
    "---\n",
    "\n",
    "### Exercise  5: Linearithmic Time\n",
    "**Description**: Consider the following merge sort implementation.\n",
    "**Question**: What is the time complexity of this function?\n"
   ]
  },
  {
   "cell_type": "code",
   "execution_count": 10,
   "metadata": {},
   "outputs": [],
   "source": [
    "def merge_sort(arr):\n",
    "    if len(arr) > 1:\n",
    "        mid = len(arr)//2\n",
    "        L = arr[:mid]\n",
    "        R = arr[mid:]\n",
    "        merge_sort(L)\n",
    "        merge_sort(R)\n",
    "        i = j = k = 0\n",
    "        while i < len(L) and j < len(R):\n",
    "            if L[i] < R[j]:\n",
    "                arr[k] = L[i]\n",
    "                i += 1\n",
    "            else:\n",
    "                arr[k] = R[j]\n",
    "                j += 1\n",
    "            k += 1\n",
    "        while i < len(L):\n",
    "            arr[k] = L[i]\n",
    "            i += 1\n",
    "            k += 1\n",
    "        while j < len(R):\n",
    "            arr[k] = R[j]\n",
    "            j += 1\n",
    "            k += 1"
   ]
  },
  {
   "cell_type": "code",
   "execution_count": 6,
   "metadata": {},
   "outputs": [],
   "source": [
    "# O(n log n) — linearithmic time, because merge sort divides the list (log n splits) and merges in O(n) at each level\n"
   ]
  },
  {
   "cell_type": "markdown",
   "metadata": {},
   "source": [
    "\n",
    "---\n",
    "\n",
    "### Exercise  6: Exponential Time\n",
    "**Description**: Analyze the following recursive Fibonacci function.\n",
    "**Question**: What is the time complexity of this function?\n"
   ]
  },
  {
   "cell_type": "code",
   "execution_count": 9,
   "metadata": {},
   "outputs": [],
   "source": [
    "def fibonacci(n):\n",
    "    if n <= 1:\n",
    "        return n\n",
    "    return fibonacci(n-1) + fibonacci(n-2)"
   ]
  },
  {
   "cell_type": "code",
   "execution_count": 7,
   "metadata": {},
   "outputs": [],
   "source": [
    "# O(2^n) — exponential time, because each call to fibonacci(n) makes two recursive calls, leading to ~2^n total calls"
   ]
  },
  {
   "cell_type": "markdown",
   "metadata": {},
   "source": [
    "\n",
    "---\n",
    "\n",
    "### Exercise  7: Nested Loops with Linear Time Complexity\n",
    "**Description**: Consider this function that counts occurrences of each element in a list.\n",
    "**Question**: What is the time complexity of this function?\n"
   ]
  },
  {
   "cell_type": "code",
   "execution_count": 14,
   "metadata": {},
   "outputs": [],
   "source": [
    "def count_occurrences(lst):\n",
    "    counts = {}\n",
    "    for element in lst:\n",
    "        counts[element] = counts.get(element, 0) + 1\n",
    "    return counts"
   ]
  },
  {
   "cell_type": "code",
   "execution_count": 10,
   "metadata": {},
   "outputs": [],
   "source": [
    "# O(n) — linear time, because the function makes a single pass through the list, and dictionary lookups are O(1)\n"
   ]
  },
  {
   "cell_type": "markdown",
   "metadata": {},
   "source": [
    "\n",
    "\n",
    "---\n",
    "\n",
    "### Exercise  8: Multiple Conditions with Linear Time Complexity\n",
    "**Description**: Evaluate the following function that checks for duplicates in a list.\n",
    "**Question**: What is the time complexity of this function?\n"
   ]
  },
  {
   "cell_type": "code",
   "execution_count": 16,
   "metadata": {},
   "outputs": [],
   "source": [
    "def has_duplicates(lst):\n",
    "    seen = set()\n",
    "    for element in lst:\n",
    "        if element in seen:\n",
    "            return True\n",
    "        seen.add(element)\n",
    "    return False"
   ]
  },
  {
   "cell_type": "code",
   "execution_count": 11,
   "metadata": {},
   "outputs": [],
   "source": [
    "# O(n) — linear time in the worst case, because we scan each element once and set operations are O(1)\n"
   ]
  },
  {
   "cell_type": "markdown",
   "metadata": {},
   "source": [
    "\n",
    "---\n",
    "\n",
    "### Exercise  9: Combining Operations\n",
    "**Description**: Analyze this function that performs two different operations on a list.\n",
    "**Question**: What is the time complexity of this function?\n"
   ]
  },
  {
   "cell_type": "code",
   "execution_count": 18,
   "metadata": {},
   "outputs": [],
   "source": [
    "def combined_operations(lst):\n",
    "    sum_total = sum(lst)          # O(n)\n",
    "    max_value = max(lst)          # O(n)\n",
    "    return sum_total, max_value   # Combined operations"
   ]
  },
  {
   "cell_type": "code",
   "execution_count": 12,
   "metadata": {},
   "outputs": [],
   "source": [
    "# O(n) — linear time, because sum(lst) is O(n) and max(lst) is O(n), and doing them sequentially is still O(n)\n"
   ]
  },
  {
   "cell_type": "markdown",
   "metadata": {},
   "source": [
    "---\n",
    "\n",
    "### Exercise  10: Factorial Growth\n",
    "**Description**: Examine the following recursive factorial function.\n",
    "**Question**: What is the time complexity of this function?"
   ]
  },
  {
   "cell_type": "code",
   "execution_count": 20,
   "metadata": {},
   "outputs": [],
   "source": [
    "\n",
    "def factorial(n):\n",
    "    if n == 0:\n",
    "        return 1\n",
    "    return n * factorial(n - 1)\n",
    "\n"
   ]
  },
  {
   "cell_type": "code",
   "execution_count": 13,
   "metadata": {},
   "outputs": [],
   "source": [
    "# O(n) — linear time, because the recursive call is made n times before reaching the base case\n"
   ]
  },
  {
   "cell_type": "markdown",
   "metadata": {},
   "source": [
    "\n",
    "\n",
    "---\n",
    "\n",
    "## Bonus Challenges\n"
   ]
  },
  {
   "cell_type": "markdown",
   "metadata": {},
   "source": [
    "\n",
    "### Bonus Challenge 1: Amortized Analysis \n",
    "**Description**: Consider an array that doubles its size when it runs out of space. Analyze the following insert operation.\n",
    "**Question**: What is the time complexity of this function?\n"
   ]
  },
  {
   "cell_type": "code",
   "execution_count": 22,
   "metadata": {},
   "outputs": [],
   "source": [
    "class DynamicArray:\n",
    "    def __init__(self):\n",
    "        self.array = []\n",
    "\n",
    "    def insert(self, value):\n",
    "        if len(self.array) == self.capacity():\n",
    "            self.resize()\n",
    "        self.array.append(value)\n",
    "\n",
    "    def resize(self):\n",
    "        new_array = [None] * (self.capacity() * 2)\n",
    "        for i in range(len(self.array)):\n",
    "            new_array[i] = self.array[i]\n",
    "        self.array = new_array\n",
    "\n",
    "    def capacity(self):\n",
    "        return len(self.array)"
   ]
  },
  {
   "cell_type": "code",
   "execution_count": 23,
   "metadata": {},
   "outputs": [],
   "source": [
    "# Write your Answer HERE"
   ]
  },
  {
   "cell_type": "markdown",
   "metadata": {},
   "source": [
    "\n",
    "---\n",
    "\n",
    "### Bonus Challenge 2: Recursive Depth \n",
    "**Description**: Analyze the following recursive depth-first search (DFS) algorithm on a binary tree.\n"
   ]
  },
  {
   "cell_type": "code",
   "execution_count": 24,
   "metadata": {},
   "outputs": [],
   "source": [
    "class Node:\n",
    "    def __init__(self, value):\n",
    "        self.value = value\n",
    "        self.left = None\n",
    "        self.right = None\n",
    "\n",
    "def dfs(node):\n",
    "    if node is None:\n",
    "        return []\n",
    "    return [node.value] + dfs(node.left) + dfs(node.right)"
   ]
  },
  {
   "cell_type": "code",
   "execution_count": 26,
   "metadata": {},
   "outputs": [],
   "source": [
    "# Write your Answer HERE"
   ]
  },
  {
   "cell_type": "markdown",
   "metadata": {},
   "source": [
    "\n",
    "## Exercise Completion\n"
   ]
  },
  {
   "cell_type": "markdown",
   "metadata": {},
   "source": [
    "\n",
    "Once you have completed all exercises:\n",
    "\n",
    "- Review your solutions.\n",
    "- Ensure your reasoning for each time complexity is well-documented.\n",
    "- Save your notebook for submission or further review.\n",
    "\n",
    "Happy coding! Enjoy practicing your understanding of Time Complexity and Big O Notation!\n"
   ]
  }
 ],
 "metadata": {
  "kernelspec": {
   "display_name": "Python 3",
   "language": "python",
   "name": "python3"
  },
  "language_info": {
   "codemirror_mode": {
    "name": "ipython",
    "version": 3
   },
   "file_extension": ".py",
   "mimetype": "text/x-python",
   "name": "python",
   "nbconvert_exporter": "python",
   "pygments_lexer": "ipython3",
   "version": "3.13.3"
  }
 },
 "nbformat": 4,
 "nbformat_minor": 2
}
